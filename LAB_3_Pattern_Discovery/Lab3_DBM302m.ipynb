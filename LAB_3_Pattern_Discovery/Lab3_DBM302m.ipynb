{
  "cells": [
    {
      "cell_type": "code",
      "execution_count": 4,
      "metadata": {
        "colab": {
          "base_uri": "https://localhost:8080/"
        },
        "id": "tCeJe2ebpQ0O",
        "outputId": "2e64372f-b3f4-47bb-9039-a4f7646aa3f0"
      },
      "outputs": [],
      "source": [
        "# !pip install nltk\n",
        "# !pip install mlxtend\n",
        "import pandas as pd\n",
        "import numpy as np\n",
        "import nltk\n",
        "from mlxtend.frequent_patterns import apriori, association_rules , fpgrowth\n",
        "from nltk.tokenize import word_tokenize\n",
        "from nltk.collocations import BigramCollocationFinder\n",
        "from nltk.metrics import BigramAssocMeasures"
      ]
    },
    {
      "cell_type": "markdown",
      "metadata": {
        "id": "vuWZJAbvghAg"
      },
      "source": [
        "## 3.1 : Bạch Thảo"
      ]
    },
    {
      "cell_type": "code",
      "execution_count": 5,
      "metadata": {
        "colab": {
          "base_uri": "https://localhost:8080/",
          "height": 419
        },
        "id": "KrRs0rkZgkpr",
        "outputId": "f1c55030-45a1-42e8-a28f-4e5f231e9fde"
      },
      "outputs": [
        {
          "data": {
            "text/html": [
              "<div>\n",
              "<style scoped>\n",
              "    .dataframe tbody tr th:only-of-type {\n",
              "        vertical-align: middle;\n",
              "    }\n",
              "\n",
              "    .dataframe tbody tr th {\n",
              "        vertical-align: top;\n",
              "    }\n",
              "\n",
              "    .dataframe thead th {\n",
              "        text-align: right;\n",
              "    }\n",
              "</style>\n",
              "<table border=\"1\" class=\"dataframe\">\n",
              "  <thead>\n",
              "    <tr style=\"text-align: right;\">\n",
              "      <th></th>\n",
              "      <th>TransactionID</th>\n",
              "      <th>Sequence</th>\n",
              "    </tr>\n",
              "  </thead>\n",
              "  <tbody>\n",
              "    <tr>\n",
              "      <th>0</th>\n",
              "      <td>1</td>\n",
              "      <td>Apple, Banana, Cereal, Donut</td>\n",
              "    </tr>\n",
              "    <tr>\n",
              "      <th>1</th>\n",
              "      <td>2</td>\n",
              "      <td>Apple, Cereal, Donut</td>\n",
              "    </tr>\n",
              "    <tr>\n",
              "      <th>2</th>\n",
              "      <td>3</td>\n",
              "      <td>Banana, Donut</td>\n",
              "    </tr>\n",
              "    <tr>\n",
              "      <th>3</th>\n",
              "      <td>4</td>\n",
              "      <td>Apple, Donut</td>\n",
              "    </tr>\n",
              "    <tr>\n",
              "      <th>4</th>\n",
              "      <td>5</td>\n",
              "      <td>Apple, Banana, Cereal</td>\n",
              "    </tr>\n",
              "    <tr>\n",
              "      <th>5</th>\n",
              "      <td>6</td>\n",
              "      <td>Cereal, Donut</td>\n",
              "    </tr>\n",
              "    <tr>\n",
              "      <th>6</th>\n",
              "      <td>7</td>\n",
              "      <td>Apple, Banana, Donut</td>\n",
              "    </tr>\n",
              "    <tr>\n",
              "      <th>7</th>\n",
              "      <td>8</td>\n",
              "      <td>Apple, Banana</td>\n",
              "    </tr>\n",
              "    <tr>\n",
              "      <th>8</th>\n",
              "      <td>9</td>\n",
              "      <td>Banana, Cereal</td>\n",
              "    </tr>\n",
              "    <tr>\n",
              "      <th>9</th>\n",
              "      <td>10</td>\n",
              "      <td>Apple, Cereal, Donut</td>\n",
              "    </tr>\n",
              "  </tbody>\n",
              "</table>\n",
              "</div>"
            ],
            "text/plain": [
              "   TransactionID                      Sequence\n",
              "0              1  Apple, Banana, Cereal, Donut\n",
              "1              2          Apple, Cereal, Donut\n",
              "2              3                 Banana, Donut\n",
              "3              4                  Apple, Donut\n",
              "4              5         Apple, Banana, Cereal\n",
              "5              6                 Cereal, Donut\n",
              "6              7          Apple, Banana, Donut\n",
              "7              8                 Apple, Banana\n",
              "8              9                Banana, Cereal\n",
              "9             10          Apple, Cereal, Donut"
            ]
          },
          "execution_count": 5,
          "metadata": {},
          "output_type": "execute_result"
        }
      ],
      "source": [
        "df = pd.read_csv('./dataset/customer_transactions_dataset.csv',usecols=['TransactionID', 'Sequence'], sep='^([^,]+),',engine='python')\n",
        "df"
      ]
    },
    {
      "cell_type": "markdown",
      "metadata": {
        "id": "6VtpLMFo8tR7"
      },
      "source": [
        "##### Pattern discovery using Apriori Algorithm"
      ]
    },
    {
      "cell_type": "code",
      "execution_count": 6,
      "metadata": {
        "colab": {
          "base_uri": "https://localhost:8080/",
          "height": 419
        },
        "id": "w-3wdynZp15N",
        "outputId": "469bd7f9-c6b3-43e2-b0ba-33016c953f0a"
      },
      "outputs": [
        {
          "data": {
            "text/html": [
              "<div>\n",
              "<style scoped>\n",
              "    .dataframe tbody tr th:only-of-type {\n",
              "        vertical-align: middle;\n",
              "    }\n",
              "\n",
              "    .dataframe tbody tr th {\n",
              "        vertical-align: top;\n",
              "    }\n",
              "\n",
              "    .dataframe thead th {\n",
              "        text-align: right;\n",
              "    }\n",
              "</style>\n",
              "<table border=\"1\" class=\"dataframe\">\n",
              "  <thead>\n",
              "    <tr style=\"text-align: right;\">\n",
              "      <th></th>\n",
              "      <th>TransactionID</th>\n",
              "      <th>Sequence</th>\n",
              "      <th>Apple</th>\n",
              "      <th>Banana</th>\n",
              "      <th>Cereal</th>\n",
              "      <th>Donut</th>\n",
              "    </tr>\n",
              "  </thead>\n",
              "  <tbody>\n",
              "    <tr>\n",
              "      <th>0</th>\n",
              "      <td>1</td>\n",
              "      <td>Apple, Banana, Cereal, Donut</td>\n",
              "      <td>1</td>\n",
              "      <td>1</td>\n",
              "      <td>1</td>\n",
              "      <td>1</td>\n",
              "    </tr>\n",
              "    <tr>\n",
              "      <th>1</th>\n",
              "      <td>2</td>\n",
              "      <td>Apple, Cereal, Donut</td>\n",
              "      <td>1</td>\n",
              "      <td>0</td>\n",
              "      <td>1</td>\n",
              "      <td>1</td>\n",
              "    </tr>\n",
              "    <tr>\n",
              "      <th>2</th>\n",
              "      <td>3</td>\n",
              "      <td>Banana, Donut</td>\n",
              "      <td>0</td>\n",
              "      <td>1</td>\n",
              "      <td>0</td>\n",
              "      <td>1</td>\n",
              "    </tr>\n",
              "    <tr>\n",
              "      <th>3</th>\n",
              "      <td>4</td>\n",
              "      <td>Apple, Donut</td>\n",
              "      <td>1</td>\n",
              "      <td>0</td>\n",
              "      <td>0</td>\n",
              "      <td>1</td>\n",
              "    </tr>\n",
              "    <tr>\n",
              "      <th>4</th>\n",
              "      <td>5</td>\n",
              "      <td>Apple, Banana, Cereal</td>\n",
              "      <td>1</td>\n",
              "      <td>1</td>\n",
              "      <td>1</td>\n",
              "      <td>0</td>\n",
              "    </tr>\n",
              "    <tr>\n",
              "      <th>5</th>\n",
              "      <td>6</td>\n",
              "      <td>Cereal, Donut</td>\n",
              "      <td>0</td>\n",
              "      <td>0</td>\n",
              "      <td>1</td>\n",
              "      <td>1</td>\n",
              "    </tr>\n",
              "    <tr>\n",
              "      <th>6</th>\n",
              "      <td>7</td>\n",
              "      <td>Apple, Banana, Donut</td>\n",
              "      <td>1</td>\n",
              "      <td>1</td>\n",
              "      <td>0</td>\n",
              "      <td>1</td>\n",
              "    </tr>\n",
              "    <tr>\n",
              "      <th>7</th>\n",
              "      <td>8</td>\n",
              "      <td>Apple, Banana</td>\n",
              "      <td>1</td>\n",
              "      <td>1</td>\n",
              "      <td>0</td>\n",
              "      <td>0</td>\n",
              "    </tr>\n",
              "    <tr>\n",
              "      <th>8</th>\n",
              "      <td>9</td>\n",
              "      <td>Banana, Cereal</td>\n",
              "      <td>0</td>\n",
              "      <td>1</td>\n",
              "      <td>1</td>\n",
              "      <td>0</td>\n",
              "    </tr>\n",
              "    <tr>\n",
              "      <th>9</th>\n",
              "      <td>10</td>\n",
              "      <td>Apple, Cereal, Donut</td>\n",
              "      <td>1</td>\n",
              "      <td>0</td>\n",
              "      <td>1</td>\n",
              "      <td>1</td>\n",
              "    </tr>\n",
              "  </tbody>\n",
              "</table>\n",
              "</div>"
            ],
            "text/plain": [
              "   TransactionID                      Sequence  Apple  Banana  Cereal  Donut\n",
              "0              1  Apple, Banana, Cereal, Donut      1       1       1      1\n",
              "1              2          Apple, Cereal, Donut      1       0       1      1\n",
              "2              3                 Banana, Donut      0       1       0      1\n",
              "3              4                  Apple, Donut      1       0       0      1\n",
              "4              5         Apple, Banana, Cereal      1       1       1      0\n",
              "5              6                 Cereal, Donut      0       0       1      1\n",
              "6              7          Apple, Banana, Donut      1       1       0      1\n",
              "7              8                 Apple, Banana      1       1       0      0\n",
              "8              9                Banana, Cereal      0       1       1      0\n",
              "9             10          Apple, Cereal, Donut      1       0       1      1"
            ]
          },
          "execution_count": 6,
          "metadata": {},
          "output_type": "execute_result"
        }
      ],
      "source": [
        "customer_dummy = df['Sequence'].str.get_dummies(sep=', ')\n",
        "customer_trans = pd.concat([df, customer_dummy], axis=1)\n",
        "customer_trans"
      ]
    },
    {
      "cell_type": "code",
      "execution_count": 7,
      "metadata": {
        "colab": {
          "base_uri": "https://localhost:8080/",
          "height": 487
        },
        "id": "ccHr3-oEpxI3",
        "outputId": "2680fd27-c24c-47c5-d1da-6c9a5579436c"
      },
      "outputs": [
        {
          "name": "stderr",
          "output_type": "stream",
          "text": [
            "C:\\Users\\triet\\AppData\\Local\\Packages\\PythonSoftwareFoundation.Python.3.11_qbz5n2kfra8p0\\LocalCache\\local-packages\\Python311\\site-packages\\mlxtend\\frequent_patterns\\fpcommon.py:109: DeprecationWarning: DataFrames with non-bool types result in worse computationalperformance and their support might be discontinued in the future.Please use a DataFrame with bool type\n",
            "  warnings.warn(\n"
          ]
        },
        {
          "data": {
            "text/html": [
              "<div>\n",
              "<style scoped>\n",
              "    .dataframe tbody tr th:only-of-type {\n",
              "        vertical-align: middle;\n",
              "    }\n",
              "\n",
              "    .dataframe tbody tr th {\n",
              "        vertical-align: top;\n",
              "    }\n",
              "\n",
              "    .dataframe thead th {\n",
              "        text-align: right;\n",
              "    }\n",
              "</style>\n",
              "<table border=\"1\" class=\"dataframe\">\n",
              "  <thead>\n",
              "    <tr style=\"text-align: right;\">\n",
              "      <th></th>\n",
              "      <th>support</th>\n",
              "      <th>itemsets</th>\n",
              "    </tr>\n",
              "  </thead>\n",
              "  <tbody>\n",
              "    <tr>\n",
              "      <th>0</th>\n",
              "      <td>0.7</td>\n",
              "      <td>(Apple)</td>\n",
              "    </tr>\n",
              "    <tr>\n",
              "      <th>3</th>\n",
              "      <td>0.7</td>\n",
              "      <td>(Donut)</td>\n",
              "    </tr>\n",
              "    <tr>\n",
              "      <th>1</th>\n",
              "      <td>0.6</td>\n",
              "      <td>(Banana)</td>\n",
              "    </tr>\n",
              "    <tr>\n",
              "      <th>2</th>\n",
              "      <td>0.6</td>\n",
              "      <td>(Cereal)</td>\n",
              "    </tr>\n",
              "    <tr>\n",
              "      <th>6</th>\n",
              "      <td>0.5</td>\n",
              "      <td>(Apple, Donut)</td>\n",
              "    </tr>\n",
              "    <tr>\n",
              "      <th>4</th>\n",
              "      <td>0.4</td>\n",
              "      <td>(Apple, Banana)</td>\n",
              "    </tr>\n",
              "    <tr>\n",
              "      <th>5</th>\n",
              "      <td>0.4</td>\n",
              "      <td>(Cereal, Apple)</td>\n",
              "    </tr>\n",
              "    <tr>\n",
              "      <th>9</th>\n",
              "      <td>0.4</td>\n",
              "      <td>(Cereal, Donut)</td>\n",
              "    </tr>\n",
              "    <tr>\n",
              "      <th>7</th>\n",
              "      <td>0.3</td>\n",
              "      <td>(Cereal, Banana)</td>\n",
              "    </tr>\n",
              "    <tr>\n",
              "      <th>8</th>\n",
              "      <td>0.3</td>\n",
              "      <td>(Banana, Donut)</td>\n",
              "    </tr>\n",
              "    <tr>\n",
              "      <th>10</th>\n",
              "      <td>0.3</td>\n",
              "      <td>(Cereal, Apple, Donut)</td>\n",
              "    </tr>\n",
              "  </tbody>\n",
              "</table>\n",
              "</div>"
            ],
            "text/plain": [
              "    support                itemsets\n",
              "0       0.7                 (Apple)\n",
              "3       0.7                 (Donut)\n",
              "1       0.6                (Banana)\n",
              "2       0.6                (Cereal)\n",
              "6       0.5          (Apple, Donut)\n",
              "4       0.4         (Apple, Banana)\n",
              "5       0.4         (Cereal, Apple)\n",
              "9       0.4         (Cereal, Donut)\n",
              "7       0.3        (Cereal, Banana)\n",
              "8       0.3         (Banana, Donut)\n",
              "10      0.3  (Cereal, Apple, Donut)"
            ]
          },
          "execution_count": 7,
          "metadata": {},
          "output_type": "execute_result"
        }
      ],
      "source": [
        "frequent_itemsets = apriori(customer_dummy, min_support=0.3, use_colnames=True, )\n",
        "frequent_itemsets.sort_values(by='support',ascending=False)"
      ]
    },
    {
      "cell_type": "code",
      "execution_count": 8,
      "metadata": {
        "colab": {
          "base_uri": "https://localhost:8080/"
        },
        "id": "h2E2O7PMqRxY",
        "outputId": "33c2f467-cfdc-47e4-b54e-06d44d35a144"
      },
      "outputs": [
        {
          "name": "stdout",
          "output_type": "stream",
          "text": [
            "       antecedents      consequents  antecedent support  consequent support  \\\n",
            "0          (Apple)          (Donut)                 0.7                 0.7   \n",
            "1          (Donut)          (Apple)                 0.7                 0.7   \n",
            "2  (Cereal, Apple)          (Donut)                 0.4                 0.7   \n",
            "3  (Cereal, Donut)          (Apple)                 0.4                 0.7   \n",
            "4   (Apple, Donut)         (Cereal)                 0.5                 0.6   \n",
            "5         (Cereal)   (Apple, Donut)                 0.6                 0.5   \n",
            "6          (Apple)  (Cereal, Donut)                 0.7                 0.4   \n",
            "7          (Donut)  (Cereal, Apple)                 0.7                 0.4   \n",
            "\n",
            "   support  confidence      lift  leverage  conviction  zhangs_metric  \n",
            "0      0.5    0.714286  1.020408      0.01        1.05       0.066667  \n",
            "1      0.5    0.714286  1.020408      0.01        1.05       0.066667  \n",
            "2      0.3    0.750000  1.071429      0.02        1.20       0.111111  \n",
            "3      0.3    0.750000  1.071429      0.02        1.20       0.111111  \n",
            "4      0.3    0.600000  1.000000      0.00        1.00       0.000000  \n",
            "5      0.3    0.500000  1.000000      0.00        1.00       0.000000  \n",
            "6      0.3    0.428571  1.071429      0.02        1.05       0.222222  \n",
            "7      0.3    0.428571  1.071429      0.02        1.05       0.222222  \n"
          ]
        }
      ],
      "source": [
        "rules = association_rules(frequent_itemsets, metric=\"lift\", min_threshold=1)\n",
        "print(rules)"
      ]
    },
    {
      "cell_type": "markdown",
      "metadata": {
        "id": "3E8thyfO83no"
      },
      "source": [
        "##### Sequential Patterns Using GSP"
      ]
    },
    {
      "cell_type": "code",
      "execution_count": 9,
      "metadata": {
        "colab": {
          "base_uri": "https://localhost:8080/"
        },
        "id": "WFaZiPGN7eBT",
        "outputId": "64d35ddb-dbc8-4b3e-ec24-fd8adc1219bf"
      },
      "outputs": [
        {
          "name": "stdout",
          "output_type": "stream",
          "text": [
            "Collecting gsppy\n",
            "  Downloading gsppy-1.1-py3-none-any.whl.metadata (3.1 kB)\n",
            "Downloading gsppy-1.1-py3-none-any.whl (5.7 kB)\n",
            "Installing collected packages: gsppy\n",
            "Successfully installed gsppy-1.1\n"
          ]
        },
        {
          "data": {
            "text/plain": [
              "[['Apple', 'Banana', 'Cereal', 'Donut'],\n",
              " ['Apple', 'Cereal', 'Donut'],\n",
              " ['Banana', 'Donut'],\n",
              " ['Apple', 'Donut'],\n",
              " ['Apple', 'Banana', 'Cereal'],\n",
              " ['Cereal', 'Donut'],\n",
              " ['Apple', 'Banana', 'Donut'],\n",
              " ['Apple', 'Banana'],\n",
              " ['Banana', 'Cereal'],\n",
              " ['Apple', 'Cereal', 'Donut']]"
            ]
          },
          "execution_count": 9,
          "metadata": {},
          "output_type": "execute_result"
        }
      ],
      "source": [
        "!pip install gsppy\n",
        "from gsppy.gsp import GSP\n",
        "\n",
        "sequences = df['Sequence'].apply(lambda x: x.split(', ')).tolist()\n",
        "sequences"
      ]
    },
    {
      "cell_type": "code",
      "execution_count": 10,
      "metadata": {
        "colab": {
          "base_uri": "https://localhost:8080/"
        },
        "id": "KGSdHmeI-dOv",
        "outputId": "bcffbc8f-fce4-4d23-d312-58a5a806de80"
      },
      "outputs": [
        {
          "name": "stdout",
          "output_type": "stream",
          "text": [
            "{('Banana',): 6, ('Apple',): 7, ('Donut',): 7, ('Cereal',): 6}\n",
            "{('Apple', 'Cereal'): 2, ('Apple', 'Banana'): 4, ('Cereal', 'Donut'): 4, ('Banana', 'Cereal'): 3, ('Banana', 'Donut'): 2}\n",
            "{('Apple', 'Cereal', 'Donut'): 2, ('Apple', 'Banana', 'Cereal'): 2}\n"
          ]
        }
      ],
      "source": [
        "result = GSP(sequences).search(0.2)\n",
        "for i in result:\n",
        "  print(i)\n"
      ]
    },
    {
      "cell_type": "markdown",
      "metadata": {
        "id": "pgl24ZMygs9H"
      },
      "source": [
        "## 3.2 : Quỳnh Hoa"
      ]
    },
    {
      "cell_type": "code",
      "execution_count": 11,
      "metadata": {
        "colab": {
          "base_uri": "https://localhost:8080/",
          "height": 452
        },
        "id": "SvHtp5B8gvNo",
        "outputId": "7a07055f-a3c9-486b-970f-5582258a9d37"
      },
      "outputs": [
        {
          "name": "stderr",
          "output_type": "stream",
          "text": [
            "C:\\Users\\triet\\AppData\\Local\\Temp\\ipykernel_12452\\3005541442.py:2: ParserWarning: Falling back to the 'python' engine because the 'c' engine does not support regex separators (separators > 1 char and different from '\\s+' are interpreted as regex); you can avoid this warning by specifying engine='python'.\n",
            "  df2 = pd.read_csv(file_path,usecols=['TransactionID', 'Items'], sep='^([^,]+),')\n"
          ]
        },
        {
          "data": {
            "text/html": [
              "<div>\n",
              "<style scoped>\n",
              "    .dataframe tbody tr th:only-of-type {\n",
              "        vertical-align: middle;\n",
              "    }\n",
              "\n",
              "    .dataframe tbody tr th {\n",
              "        vertical-align: top;\n",
              "    }\n",
              "\n",
              "    .dataframe thead th {\n",
              "        text-align: right;\n",
              "    }\n",
              "</style>\n",
              "<table border=\"1\" class=\"dataframe\">\n",
              "  <thead>\n",
              "    <tr style=\"text-align: right;\">\n",
              "      <th></th>\n",
              "      <th>TransactionID</th>\n",
              "      <th>Items</th>\n",
              "    </tr>\n",
              "  </thead>\n",
              "  <tbody>\n",
              "    <tr>\n",
              "      <th>0</th>\n",
              "      <td>1</td>\n",
              "      <td>Apple, Banana, Cereal</td>\n",
              "    </tr>\n",
              "    <tr>\n",
              "      <th>1</th>\n",
              "      <td>2</td>\n",
              "      <td>Apple, Banana, Milk</td>\n",
              "    </tr>\n",
              "    <tr>\n",
              "      <th>2</th>\n",
              "      <td>3</td>\n",
              "      <td>Apple, Banana, Cereal, Milk</td>\n",
              "    </tr>\n",
              "    <tr>\n",
              "      <th>3</th>\n",
              "      <td>4</td>\n",
              "      <td>Apple, Milk</td>\n",
              "    </tr>\n",
              "    <tr>\n",
              "      <th>4</th>\n",
              "      <td>5</td>\n",
              "      <td>Apple, Cereal</td>\n",
              "    </tr>\n",
              "    <tr>\n",
              "      <th>5</th>\n",
              "      <td>6</td>\n",
              "      <td>Banana, Cereal</td>\n",
              "    </tr>\n",
              "    <tr>\n",
              "      <th>6</th>\n",
              "      <td>7</td>\n",
              "      <td>Banana, Milk</td>\n",
              "    </tr>\n",
              "    <tr>\n",
              "      <th>7</th>\n",
              "      <td>8</td>\n",
              "      <td>Apple, Banana</td>\n",
              "    </tr>\n",
              "    <tr>\n",
              "      <th>8</th>\n",
              "      <td>9</td>\n",
              "      <td>Apple, Banana, Cereal, Milk</td>\n",
              "    </tr>\n",
              "    <tr>\n",
              "      <th>9</th>\n",
              "      <td>10</td>\n",
              "      <td>Apple, Banana, Cereal</td>\n",
              "    </tr>\n",
              "  </tbody>\n",
              "</table>\n",
              "</div>"
            ],
            "text/plain": [
              "   TransactionID                        Items\n",
              "0              1        Apple, Banana, Cereal\n",
              "1              2          Apple, Banana, Milk\n",
              "2              3  Apple, Banana, Cereal, Milk\n",
              "3              4                  Apple, Milk\n",
              "4              5                Apple, Cereal\n",
              "5              6               Banana, Cereal\n",
              "6              7                 Banana, Milk\n",
              "7              8                Apple, Banana\n",
              "8              9  Apple, Banana, Cereal, Milk\n",
              "9             10        Apple, Banana, Cereal"
            ]
          },
          "execution_count": 11,
          "metadata": {},
          "output_type": "execute_result"
        }
      ],
      "source": [
        "file_path = './dataset/example_grocery_transaction_dataset.csv'\n",
        "df2 = pd.read_csv(file_path,usecols=['TransactionID', 'Items'], sep='^([^,]+),')\n",
        "df2"
      ]
    },
    {
      "cell_type": "code",
      "execution_count": 12,
      "metadata": {
        "colab": {
          "base_uri": "https://localhost:8080/",
          "height": 417
        },
        "id": "R5-iEXgUGQ6W",
        "outputId": "0645f55f-f75f-40a7-a50e-89004b52e494"
      },
      "outputs": [
        {
          "data": {
            "text/html": [
              "<div>\n",
              "<style scoped>\n",
              "    .dataframe tbody tr th:only-of-type {\n",
              "        vertical-align: middle;\n",
              "    }\n",
              "\n",
              "    .dataframe tbody tr th {\n",
              "        vertical-align: top;\n",
              "    }\n",
              "\n",
              "    .dataframe thead th {\n",
              "        text-align: right;\n",
              "    }\n",
              "</style>\n",
              "<table border=\"1\" class=\"dataframe\">\n",
              "  <thead>\n",
              "    <tr style=\"text-align: right;\">\n",
              "      <th></th>\n",
              "      <th>TransactionID</th>\n",
              "      <th>Apple</th>\n",
              "      <th>Banana</th>\n",
              "      <th>Cereal</th>\n",
              "      <th>Milk</th>\n",
              "    </tr>\n",
              "  </thead>\n",
              "  <tbody>\n",
              "    <tr>\n",
              "      <th>0</th>\n",
              "      <td>1</td>\n",
              "      <td>1</td>\n",
              "      <td>1</td>\n",
              "      <td>1</td>\n",
              "      <td>0</td>\n",
              "    </tr>\n",
              "    <tr>\n",
              "      <th>1</th>\n",
              "      <td>2</td>\n",
              "      <td>1</td>\n",
              "      <td>1</td>\n",
              "      <td>0</td>\n",
              "      <td>1</td>\n",
              "    </tr>\n",
              "    <tr>\n",
              "      <th>2</th>\n",
              "      <td>3</td>\n",
              "      <td>1</td>\n",
              "      <td>1</td>\n",
              "      <td>1</td>\n",
              "      <td>1</td>\n",
              "    </tr>\n",
              "    <tr>\n",
              "      <th>3</th>\n",
              "      <td>4</td>\n",
              "      <td>1</td>\n",
              "      <td>0</td>\n",
              "      <td>0</td>\n",
              "      <td>1</td>\n",
              "    </tr>\n",
              "    <tr>\n",
              "      <th>4</th>\n",
              "      <td>5</td>\n",
              "      <td>1</td>\n",
              "      <td>0</td>\n",
              "      <td>1</td>\n",
              "      <td>0</td>\n",
              "    </tr>\n",
              "    <tr>\n",
              "      <th>5</th>\n",
              "      <td>6</td>\n",
              "      <td>0</td>\n",
              "      <td>1</td>\n",
              "      <td>1</td>\n",
              "      <td>0</td>\n",
              "    </tr>\n",
              "    <tr>\n",
              "      <th>6</th>\n",
              "      <td>7</td>\n",
              "      <td>0</td>\n",
              "      <td>1</td>\n",
              "      <td>0</td>\n",
              "      <td>1</td>\n",
              "    </tr>\n",
              "    <tr>\n",
              "      <th>7</th>\n",
              "      <td>8</td>\n",
              "      <td>1</td>\n",
              "      <td>1</td>\n",
              "      <td>0</td>\n",
              "      <td>0</td>\n",
              "    </tr>\n",
              "    <tr>\n",
              "      <th>8</th>\n",
              "      <td>9</td>\n",
              "      <td>1</td>\n",
              "      <td>1</td>\n",
              "      <td>1</td>\n",
              "      <td>1</td>\n",
              "    </tr>\n",
              "    <tr>\n",
              "      <th>9</th>\n",
              "      <td>10</td>\n",
              "      <td>1</td>\n",
              "      <td>1</td>\n",
              "      <td>1</td>\n",
              "      <td>0</td>\n",
              "    </tr>\n",
              "  </tbody>\n",
              "</table>\n",
              "</div>"
            ],
            "text/plain": [
              "   TransactionID  Apple  Banana  Cereal  Milk\n",
              "0              1      1       1       1     0\n",
              "1              2      1       1       0     1\n",
              "2              3      1       1       1     1\n",
              "3              4      1       0       0     1\n",
              "4              5      1       0       1     0\n",
              "5              6      0       1       1     0\n",
              "6              7      0       1       0     1\n",
              "7              8      1       1       0     0\n",
              "8              9      1       1       1     1\n",
              "9             10      1       1       1     0"
            ]
          },
          "execution_count": 12,
          "metadata": {},
          "output_type": "execute_result"
        }
      ],
      "source": [
        "customer_dummy = df2['Items'].str.get_dummies(sep=', ')\n",
        "customer_trans = pd.concat([df2, customer_dummy], axis=1)\n",
        "customer_trans = customer_trans.drop(columns=['Items'])\n",
        "customer_trans"
      ]
    },
    {
      "cell_type": "code",
      "execution_count": 13,
      "metadata": {
        "colab": {
          "base_uri": "https://localhost:8080/",
          "height": 483
        },
        "id": "LPDSac0JGRKq",
        "outputId": "9dc7d13f-df5a-4e27-f135-0f1414d498ab"
      },
      "outputs": [
        {
          "name": "stderr",
          "output_type": "stream",
          "text": [
            "C:\\Users\\triet\\AppData\\Local\\Packages\\PythonSoftwareFoundation.Python.3.11_qbz5n2kfra8p0\\LocalCache\\local-packages\\Python311\\site-packages\\mlxtend\\frequent_patterns\\fpcommon.py:109: DeprecationWarning: DataFrames with non-bool types result in worse computationalperformance and their support might be discontinued in the future.Please use a DataFrame with bool type\n",
            "  warnings.warn(\n"
          ]
        },
        {
          "data": {
            "text/html": [
              "<div>\n",
              "<style scoped>\n",
              "    .dataframe tbody tr th:only-of-type {\n",
              "        vertical-align: middle;\n",
              "    }\n",
              "\n",
              "    .dataframe tbody tr th {\n",
              "        vertical-align: top;\n",
              "    }\n",
              "\n",
              "    .dataframe thead th {\n",
              "        text-align: right;\n",
              "    }\n",
              "</style>\n",
              "<table border=\"1\" class=\"dataframe\">\n",
              "  <thead>\n",
              "    <tr style=\"text-align: right;\">\n",
              "      <th></th>\n",
              "      <th>support</th>\n",
              "      <th>itemsets</th>\n",
              "    </tr>\n",
              "  </thead>\n",
              "  <tbody>\n",
              "    <tr>\n",
              "      <th>0</th>\n",
              "      <td>0.8</td>\n",
              "      <td>(Apple)</td>\n",
              "    </tr>\n",
              "    <tr>\n",
              "      <th>1</th>\n",
              "      <td>0.8</td>\n",
              "      <td>(Banana)</td>\n",
              "    </tr>\n",
              "    <tr>\n",
              "      <th>2</th>\n",
              "      <td>0.6</td>\n",
              "      <td>(Cereal)</td>\n",
              "    </tr>\n",
              "    <tr>\n",
              "      <th>4</th>\n",
              "      <td>0.6</td>\n",
              "      <td>(Apple, Banana)</td>\n",
              "    </tr>\n",
              "    <tr>\n",
              "      <th>3</th>\n",
              "      <td>0.5</td>\n",
              "      <td>(Milk)</td>\n",
              "    </tr>\n",
              "    <tr>\n",
              "      <th>5</th>\n",
              "      <td>0.5</td>\n",
              "      <td>(Cereal, Apple)</td>\n",
              "    </tr>\n",
              "    <tr>\n",
              "      <th>7</th>\n",
              "      <td>0.5</td>\n",
              "      <td>(Cereal, Banana)</td>\n",
              "    </tr>\n",
              "    <tr>\n",
              "      <th>6</th>\n",
              "      <td>0.4</td>\n",
              "      <td>(Milk, Apple)</td>\n",
              "    </tr>\n",
              "    <tr>\n",
              "      <th>8</th>\n",
              "      <td>0.4</td>\n",
              "      <td>(Milk, Banana)</td>\n",
              "    </tr>\n",
              "    <tr>\n",
              "      <th>9</th>\n",
              "      <td>0.4</td>\n",
              "      <td>(Cereal, Apple, Banana)</td>\n",
              "    </tr>\n",
              "    <tr>\n",
              "      <th>10</th>\n",
              "      <td>0.3</td>\n",
              "      <td>(Milk, Apple, Banana)</td>\n",
              "    </tr>\n",
              "  </tbody>\n",
              "</table>\n",
              "</div>"
            ],
            "text/plain": [
              "    support                 itemsets\n",
              "0       0.8                  (Apple)\n",
              "1       0.8                 (Banana)\n",
              "2       0.6                 (Cereal)\n",
              "4       0.6          (Apple, Banana)\n",
              "3       0.5                   (Milk)\n",
              "5       0.5          (Cereal, Apple)\n",
              "7       0.5         (Cereal, Banana)\n",
              "6       0.4            (Milk, Apple)\n",
              "8       0.4           (Milk, Banana)\n",
              "9       0.4  (Cereal, Apple, Banana)\n",
              "10      0.3    (Milk, Apple, Banana)"
            ]
          },
          "execution_count": 13,
          "metadata": {},
          "output_type": "execute_result"
        }
      ],
      "source": [
        "frequent_itemsets = apriori(customer_dummy, min_support=0.3, use_colnames=True, )\n",
        "frequent_itemsets.sort_values(by='support',ascending=False)"
      ]
    },
    {
      "cell_type": "code",
      "execution_count": 14,
      "metadata": {
        "colab": {
          "base_uri": "https://localhost:8080/"
        },
        "id": "w2tbpfFGLEVf",
        "outputId": "583a18d7-13df-4e90-aeba-4437c71e947f"
      },
      "outputs": [
        {
          "name": "stdout",
          "output_type": "stream",
          "text": [
            "       antecedents      consequents  antecedent support  consequent support  \\\n",
            "0         (Cereal)          (Apple)                 0.6                 0.8   \n",
            "1          (Apple)         (Cereal)                 0.8                 0.6   \n",
            "2         (Cereal)         (Banana)                 0.6                 0.8   \n",
            "3         (Banana)         (Cereal)                 0.8                 0.6   \n",
            "4  (Apple, Banana)         (Cereal)                 0.6                 0.6   \n",
            "5         (Cereal)  (Apple, Banana)                 0.6                 0.6   \n",
            "\n",
            "   support  confidence      lift  leverage  conviction  zhangs_metric  \n",
            "0      0.5    0.833333  1.041667      0.02    1.200000           0.10  \n",
            "1      0.5    0.625000  1.041667      0.02    1.066667           0.20  \n",
            "2      0.5    0.833333  1.041667      0.02    1.200000           0.10  \n",
            "3      0.5    0.625000  1.041667      0.02    1.066667           0.20  \n",
            "4      0.4    0.666667  1.111111      0.04    1.200000           0.25  \n",
            "5      0.4    0.666667  1.111111      0.04    1.200000           0.25  \n"
          ]
        }
      ],
      "source": [
        "rules = association_rules(frequent_itemsets, metric=\"lift\", min_threshold=1.001)\n",
        "print(rules)"
      ]
    },
    {
      "cell_type": "markdown",
      "metadata": {
        "id": "k3WqRfn-gwD4"
      },
      "source": [
        "## 3.3 : Bá Triết"
      ]
    },
    {
      "cell_type": "code",
      "execution_count": 15,
      "metadata": {
        "colab": {
          "base_uri": "https://localhost:8080/"
        },
        "id": "2dY2QeiTgzuV",
        "outputId": "0096070a-3b82-4451-ba6d-be067114e4ef"
      },
      "outputs": [],
      "source": [
        "# !pip install pymining\n",
        "import pandas as pd\n",
        "import pymining\n",
        "from pymining import seqmining"
      ]
    },
    {
      "cell_type": "code",
      "execution_count": 16,
      "metadata": {
        "colab": {
          "base_uri": "https://localhost:8080/",
          "height": 363
        },
        "id": "8kpLmlM6kFUJ",
        "outputId": "0621e27b-bd7d-47e0-fe42-3fe037c24ea3"
      },
      "outputs": [
        {
          "data": {
            "text/html": [
              "<div>\n",
              "<style scoped>\n",
              "    .dataframe tbody tr th:only-of-type {\n",
              "        vertical-align: middle;\n",
              "    }\n",
              "\n",
              "    .dataframe tbody tr th {\n",
              "        vertical-align: top;\n",
              "    }\n",
              "\n",
              "    .dataframe thead th {\n",
              "        text-align: right;\n",
              "    }\n",
              "</style>\n",
              "<table border=\"1\" class=\"dataframe\">\n",
              "  <thead>\n",
              "    <tr style=\"text-align: right;\">\n",
              "      <th></th>\n",
              "      <th>SequenceID</th>\n",
              "      <th>Actions</th>\n",
              "    </tr>\n",
              "  </thead>\n",
              "  <tbody>\n",
              "    <tr>\n",
              "      <th>0</th>\n",
              "      <td>1</td>\n",
              "      <td>A, B, C, D</td>\n",
              "    </tr>\n",
              "    <tr>\n",
              "      <th>1</th>\n",
              "      <td>2</td>\n",
              "      <td>A, C, D</td>\n",
              "    </tr>\n",
              "    <tr>\n",
              "      <th>2</th>\n",
              "      <td>3</td>\n",
              "      <td>B, D</td>\n",
              "    </tr>\n",
              "    <tr>\n",
              "      <th>3</th>\n",
              "      <td>4</td>\n",
              "      <td>A, D</td>\n",
              "    </tr>\n",
              "    <tr>\n",
              "      <th>4</th>\n",
              "      <td>5</td>\n",
              "      <td>A, B, C</td>\n",
              "    </tr>\n",
              "    <tr>\n",
              "      <th>5</th>\n",
              "      <td>6</td>\n",
              "      <td>C, D</td>\n",
              "    </tr>\n",
              "    <tr>\n",
              "      <th>6</th>\n",
              "      <td>7</td>\n",
              "      <td>A, B, D</td>\n",
              "    </tr>\n",
              "    <tr>\n",
              "      <th>7</th>\n",
              "      <td>8</td>\n",
              "      <td>A, B</td>\n",
              "    </tr>\n",
              "    <tr>\n",
              "      <th>8</th>\n",
              "      <td>9</td>\n",
              "      <td>B, C</td>\n",
              "    </tr>\n",
              "    <tr>\n",
              "      <th>9</th>\n",
              "      <td>10</td>\n",
              "      <td>A, C, D</td>\n",
              "    </tr>\n",
              "  </tbody>\n",
              "</table>\n",
              "</div>"
            ],
            "text/plain": [
              "   SequenceID     Actions\n",
              "0           1  A, B, C, D\n",
              "1           2     A, C, D\n",
              "2           3        B, D\n",
              "3           4        A, D\n",
              "4           5     A, B, C\n",
              "5           6        C, D\n",
              "6           7     A, B, D\n",
              "7           8        A, B\n",
              "8           9        B, C\n",
              "9          10     A, C, D"
            ]
          },
          "execution_count": 16,
          "metadata": {},
          "output_type": "execute_result"
        }
      ],
      "source": [
        "df = pd.read_csv('./dataset/example_sequenceid_dataset.csv',usecols=['SequenceID', 'Actions'], sep='^([^,]+),',engine='python')\n",
        "df"
      ]
    },
    {
      "cell_type": "code",
      "execution_count": 17,
      "metadata": {
        "colab": {
          "base_uri": "https://localhost:8080/"
        },
        "id": "lCC35k6nkLEs",
        "outputId": "6ddfa06f-de06-404c-f5ab-e9c100536ff9"
      },
      "outputs": [
        {
          "data": {
            "text/plain": [
              "[('A', 'B', 'C', 'D'),\n",
              " ('A', 'C', 'D'),\n",
              " ('B', 'D'),\n",
              " ('A', 'D'),\n",
              " ('A', 'B', 'C'),\n",
              " ('C', 'D'),\n",
              " ('A', 'B', 'D'),\n",
              " ('A', 'B'),\n",
              " ('B', 'C'),\n",
              " ('A', 'C', 'D')]"
            ]
          },
          "execution_count": 17,
          "metadata": {},
          "output_type": "execute_result"
        }
      ],
      "source": [
        "tmp = []\n",
        "for i in df['Actions']:\n",
        "    tmp.append(i)\n",
        "\n",
        "data = [tuple(item.split(',')) for item in tmp]\n",
        "data = list(map(lambda row: tuple(item.strip() for item in row), data))\n",
        "\n",
        "data"
      ]
    },
    {
      "cell_type": "code",
      "execution_count": 18,
      "metadata": {
        "colab": {
          "base_uri": "https://localhost:8080/"
        },
        "id": "mBqeUgtgkNpI",
        "outputId": "cc3742e1-bb50-47e4-f6a9-2bdd6ab5005b"
      },
      "outputs": [
        {
          "name": "stdout",
          "output_type": "stream",
          "text": [
            "Sequence: ('B', 'C'), Support: 3\n",
            "Sequence: ('A', 'B', 'C'), Support: 2\n",
            "Sequence: ('A', 'C', 'D'), Support: 3\n",
            "Sequence: ('A', 'D'), Support: 5\n",
            "Sequence: ('D',), Support: 7\n",
            "Sequence: ('C', 'D'), Support: 4\n",
            "Sequence: ('A', 'B'), Support: 4\n",
            "Sequence: ('A',), Support: 7\n",
            "Sequence: ('A', 'C'), Support: 4\n",
            "Sequence: ('C',), Support: 6\n",
            "Sequence: ('B',), Support: 6\n",
            "Sequence: ('B', 'D'), Support: 3\n",
            "Sequence: ('A', 'B', 'D'), Support: 2\n"
          ]
        }
      ],
      "source": [
        "min_support = 2\n",
        "\n",
        "result = seqmining.freq_seq_enum(data, min_support)\n",
        "\n",
        "frequent_sequences = list(result)\n",
        "\n",
        "for seq in frequent_sequences:\n",
        "    print(f\"Sequence: {seq[0]}, Support: {seq[1]}\")"
      ]
    },
    {
      "cell_type": "code",
      "execution_count": 19,
      "metadata": {
        "colab": {
          "base_uri": "https://localhost:8080/"
        },
        "id": "-0I7zQGhkQQW",
        "outputId": "addc13ae-1b05-4b19-a414-b97d6bffc781"
      },
      "outputs": [
        {
          "name": "stdout",
          "output_type": "stream",
          "text": [
            "Pattern: 7, Support: ['A']\n",
            "Pattern: 4, Support: ['A', 'B']\n",
            "Pattern: 2, Support: ['A', 'B', 'C']\n",
            "Pattern: 2, Support: ['A', 'B', 'D']\n",
            "Pattern: 4, Support: ['A', 'C']\n",
            "Pattern: 3, Support: ['A', 'C', 'D']\n",
            "Pattern: 5, Support: ['A', 'D']\n",
            "Pattern: 6, Support: ['B']\n",
            "Pattern: 3, Support: ['B', 'C']\n",
            "Pattern: 3, Support: ['B', 'D']\n",
            "Pattern: 6, Support: ['C']\n",
            "Pattern: 4, Support: ['C', 'D']\n",
            "Pattern: 7, Support: ['D']\n"
          ]
        }
      ],
      "source": [
        "# !pip install prefixspan\n",
        "from prefixspan import PrefixSpan\n",
        "\n",
        "min_support = 2\n",
        "\n",
        "ps = PrefixSpan(data)\n",
        "frequent_sequences = ps.frequent(min_support)\n",
        "\n",
        "for pattern, support in frequent_sequences:\n",
        "    print(f\"Pattern: {pattern}, Support: {support}\")"
      ]
    },
    {
      "cell_type": "markdown",
      "metadata": {
        "id": "E7ZiGrM-hDDY"
      },
      "source": [
        "## 3.4 : Vĩnh Lộc"
      ]
    },
    {
      "cell_type": "code",
      "execution_count": 21,
      "metadata": {
        "colab": {
          "base_uri": "https://localhost:8080/"
        },
        "id": "KkoReVV1tp5H",
        "outputId": "a4e6eefa-5023-480b-ec08-a2370797c4d1"
      },
      "outputs": [
        {
          "name": "stdout",
          "output_type": "stream",
          "text": [
            "   TransactionID Sequence\n",
            "0              1    Apple\n",
            "1              2    Apple\n",
            "2              3   Banana\n",
            "3              4    Apple\n",
            "4              5    Apple\n",
            "5              6   Cereal\n",
            "6              7    Apple\n",
            "7              8    Apple\n",
            "8              9   Banana\n",
            "9             10    Apple\n"
          ]
        }
      ],
      "source": [
        "# Điều chỉnh đường dẫn tới file trong Google Drive\n",
        "file_path = './dataset/customer_transactions_dataset.csv'\n",
        "df = pd.read_csv(file_path, usecols=['TransactionID', 'Sequence'], sep=',')\n",
        "print(df)\n"
      ]
    },
    {
      "cell_type": "code",
      "execution_count": 23,
      "metadata": {
        "colab": {
          "base_uri": "https://localhost:8080/"
        },
        "id": "NfHHOS0Pulvr",
        "outputId": "b11a57d6-5573-456f-ca68-cf996771abfc"
      },
      "outputs": [],
      "source": [
        "# Download NLTK data\n",
        "# nltk.download('punkt')"
      ]
    },
    {
      "cell_type": "code",
      "execution_count": 24,
      "metadata": {
        "colab": {
          "base_uri": "https://localhost:8080/"
        },
        "id": "duuwws9ruqQk",
        "outputId": "d5a5dd1c-e628-40c4-f546-9315b710d3c8"
      },
      "outputs": [],
      "source": [
        "# Tải tập dữ liệu vào DataFrame\n",
        "data = {\n",
        "    'TransactionID': [1, 2, 3, 4, 5, 6, 7, 8, 9, 10],\n",
        "    'Sequence': [\n",
        "        'Apple Banana Cereal Donut',\n",
        "        'Apple Cereal Donut',\n",
        "        'Banana Donut',\n",
        "        'Apple Donut',\n",
        "        'Apple Banana Cereal',\n",
        "        'Cereal Donut',\n",
        "        'Apple Banana Donut',\n",
        "        'Apple Banana',\n",
        "        'Banana Cereal',\n",
        "        'Apple Cereal Donut'\n",
        "    ]\n",
        "}\n",
        "df = pd.DataFrame(data)\n",
        "# Token hóa các chuỗi\n",
        "df['Tokens'] = df['Sequence'].apply(word_tokenize)\n",
        "\n",
        "# Làm phẳng danh sách các chuỗi được mã hóa để phân tích bigram\n",
        "tokens = [token for sublist in df['Tokens'] for token in sublist]\n",
        "\n",
        "# Tạo công cụ tìm kiếm sắp xếp thứ tự bigram\n",
        "bigram_measures = BigramAssocMeasures()\n",
        "finder = BigramCollocationFinder.from_words(tokens)\n",
        "\n",
        "# Áp dụng bộ lọc tần số (tùy chọn, ở đây chỉ xem xét các bigram xảy ra nhiều lần)\n",
        "finder.apply_freq_filter(2)\n",
        "\n",
        "# Chấm điểm bigram bằng PMI\n",
        "scored = finder.score_ngrams(bigram_measures.pmi)"
      ]
    },
    {
      "cell_type": "code",
      "execution_count": 25,
      "metadata": {
        "colab": {
          "base_uri": "https://localhost:8080/"
        },
        "id": "cHrNUua0usL8",
        "outputId": "b0c14fc2-c7f9-42e7-92df-3e77edd8cc95"
      },
      "outputs": [
        {
          "name": "stdout",
          "output_type": "stream",
          "text": [
            "Top bigrams by PMI:\n",
            "('Donut', 'Apple'): 1.407657968913246\n",
            "('Apple', 'Banana'): 1.308122295362332\n",
            "('Cereal', 'Donut'): 1.308122295362332\n",
            "('Banana', 'Cereal'): 1.1154772174199366\n",
            "('Apple', 'Cereal'): 0.30812229536233193\n",
            "('Banana', 'Donut'): 0.30812229536233193\n",
            "Top bigrams with PMI scores:\n",
            "Phrase: Donut Apple, PMI Score: 1.407657968913246\n",
            "Phrase: Apple Banana, PMI Score: 1.308122295362332\n",
            "Phrase: Cereal Donut, PMI Score: 1.308122295362332\n",
            "Phrase: Banana Cereal, PMI Score: 1.1154772174199366\n",
            "Phrase: Apple Cereal, PMI Score: 0.30812229536233193\n",
            "Phrase: Banana Donut, PMI Score: 0.30812229536233193\n"
          ]
        }
      ],
      "source": [
        "# Đạt top 10 bigram có điểm PMI cao nhất\n",
        "top_bigrams = sorted(scored, key=lambda x: -x[1])[:10]\n",
        "\n",
        "# In các bigram hàng đầu\n",
        "print(\"Top bigrams by PMI:\")\n",
        "for bigram, score in top_bigrams:\n",
        "    print(f\"{bigram}: {score}\")\n",
        "\n",
        "# Giải thích các bigram hàng đầu\n",
        "print(\"Top bigrams with PMI scores:\")\n",
        "for bigram, score in top_bigrams:\n",
        "    print(f\"Phrase: {' '.join(bigram)}, PMI Score: {score}\")"
      ]
    }
  ],
  "metadata": {
    "colab": {
      "collapsed_sections": [
        "vuWZJAbvghAg",
        "pgl24ZMygs9H",
        "k3WqRfn-gwD4"
      ],
      "provenance": []
    },
    "kernelspec": {
      "display_name": "Python 3",
      "name": "python3"
    },
    "language_info": {
      "codemirror_mode": {
        "name": "ipython",
        "version": 3
      },
      "file_extension": ".py",
      "mimetype": "text/x-python",
      "name": "python",
      "nbconvert_exporter": "python",
      "pygments_lexer": "ipython3",
      "version": "3.11.9"
    }
  },
  "nbformat": 4,
  "nbformat_minor": 0
}
