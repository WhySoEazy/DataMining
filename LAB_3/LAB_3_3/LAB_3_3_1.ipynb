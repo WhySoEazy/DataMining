{
 "cells": [
  {
   "cell_type": "code",
   "execution_count": 1,
   "metadata": {},
   "outputs": [],
   "source": [
    "import pandas as pd\n",
    "import pymining\n",
    "from pymining import seqmining"
   ]
  },
  {
   "cell_type": "code",
   "execution_count": 4,
   "metadata": {},
   "outputs": [
    {
     "data": {
      "text/plain": [
       "[('A', 'B', 'C', 'D'),\n",
       " ('A', 'C', 'D'),\n",
       " ('B', 'D'),\n",
       " ('A', 'D'),\n",
       " ('A', 'B', 'C'),\n",
       " ('C', 'D'),\n",
       " ('A', 'B', 'D'),\n",
       " ('A', 'B'),\n",
       " ('B', 'C'),\n",
       " ('A', 'C', 'D')]"
      ]
     },
     "execution_count": 4,
     "metadata": {},
     "output_type": "execute_result"
    }
   ],
   "source": [
    "df = pd.read_csv('C:/Users/triet/OneDrive/Desktop/DataMining/LAB_3/dataset/example_sequenceid_dataset.csv',usecols=['SequenceID', 'Actions'], sep='^([^,]+),',engine='python')\n",
    "df\n",
    "\n",
    "tmp = []\n",
    "for i in df['Actions']:\n",
    "    tmp.append(i)\n",
    "\n",
    "data = [tuple(item.split(',')) for item in tmp]\n",
    "data = list(map(lambda row: tuple(item.strip() for item in row), data))\n",
    "\n",
    "data"
   ]
  },
  {
   "cell_type": "code",
   "execution_count": 6,
   "metadata": {},
   "outputs": [
    {
     "name": "stdout",
     "output_type": "stream",
     "text": [
      "Sequence: ('A', 'B', 'C'), Support: 2\n",
      "Sequence: ('B',), Support: 6\n",
      "Sequence: ('A', 'C'), Support: 4\n",
      "Sequence: ('A', 'B'), Support: 4\n",
      "Sequence: ('B', 'D'), Support: 3\n",
      "Sequence: ('A', 'C', 'D'), Support: 3\n",
      "Sequence: ('C',), Support: 6\n",
      "Sequence: ('A',), Support: 7\n",
      "Sequence: ('C', 'D'), Support: 4\n",
      "Sequence: ('A', 'B', 'D'), Support: 2\n",
      "Sequence: ('D',), Support: 7\n",
      "Sequence: ('B', 'C'), Support: 3\n",
      "Sequence: ('A', 'D'), Support: 5\n"
     ]
    }
   ],
   "source": [
    "min_support = 2\n",
    "\n",
    "result = seqmining.freq_seq_enum(data, min_support)\n",
    "\n",
    "frequent_sequences = list(result)\n",
    "\n",
    "for seq in frequent_sequences:\n",
    "    print(f\"Sequence: {seq[0]}, Support: {seq[1]}\")"
   ]
  },
  {
   "cell_type": "code",
   "execution_count": 7,
   "metadata": {},
   "outputs": [
    {
     "name": "stdout",
     "output_type": "stream",
     "text": [
      "Pattern: 7, Support: ['A']\n",
      "Pattern: 4, Support: ['A', 'B']\n",
      "Pattern: 2, Support: ['A', 'B', 'C']\n",
      "Pattern: 2, Support: ['A', 'B', 'D']\n",
      "Pattern: 4, Support: ['A', 'C']\n",
      "Pattern: 3, Support: ['A', 'C', 'D']\n",
      "Pattern: 5, Support: ['A', 'D']\n",
      "Pattern: 6, Support: ['B']\n",
      "Pattern: 3, Support: ['B', 'C']\n",
      "Pattern: 3, Support: ['B', 'D']\n",
      "Pattern: 6, Support: ['C']\n",
      "Pattern: 4, Support: ['C', 'D']\n",
      "Pattern: 7, Support: ['D']\n"
     ]
    }
   ],
   "source": [
    "from prefixspan import PrefixSpan\n",
    "\n",
    "min_support = 2\n",
    "\n",
    "ps = PrefixSpan(data)\n",
    "frequent_sequences = ps.frequent(min_support)\n",
    "\n",
    "for pattern, support in frequent_sequences:\n",
    "    print(f\"Pattern: {pattern}, Support: {support}\")"
   ]
  }
 ],
 "metadata": {
  "kernelspec": {
   "display_name": "Python 3",
   "language": "python",
   "name": "python3"
  },
  "language_info": {
   "codemirror_mode": {
    "name": "ipython",
    "version": 3
   },
   "file_extension": ".py",
   "mimetype": "text/x-python",
   "name": "python",
   "nbconvert_exporter": "python",
   "pygments_lexer": "ipython3",
   "version": "3.11.9"
  }
 },
 "nbformat": 4,
 "nbformat_minor": 2
}
