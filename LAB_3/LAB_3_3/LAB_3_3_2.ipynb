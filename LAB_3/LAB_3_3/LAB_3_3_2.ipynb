{
 "cells": [
  {
   "cell_type": "code",
   "execution_count": 1,
   "metadata": {},
   "outputs": [],
   "source": [
    "import pandas as pd\n",
    "import pymining\n",
    "from pymining import seqmining"
   ]
  },
  {
   "cell_type": "code",
   "execution_count": 4,
   "metadata": {},
   "outputs": [
    {
     "data": {
      "text/plain": [
       "[('Apple', 'Banana', 'Cereal'),\n",
       " ('Apple', 'Banana', 'Milk'),\n",
       " ('Apple', 'Banana', 'Cereal', 'Milk'),\n",
       " ('Apple', 'Milk'),\n",
       " ('Apple', 'Cereal'),\n",
       " ('Banana', 'Cereal'),\n",
       " ('Banana', 'Milk'),\n",
       " ('Apple', 'Banana'),\n",
       " ('Apple', 'Banana', 'Cereal', 'Milk'),\n",
       " ('Apple', 'Banana', 'Cereal')]"
      ]
     },
     "execution_count": 4,
     "metadata": {},
     "output_type": "execute_result"
    }
   ],
   "source": [
    "df = pd.read_csv('C:/Users/triet/OneDrive/Desktop/DataMining/LAB_3/dataset/example_grocery_transaction_dataset.csv',usecols=['TransactionID', 'Items'], sep='^([^,]+),',engine='python')\n",
    "df\n",
    "\n",
    "tmp = []\n",
    "for i in df['Items']:\n",
    "    tmp.append(i)\n",
    "\n",
    "data = [tuple(item.split(',')) for item in tmp]\n",
    "data = list(map(lambda row: tuple(item.strip() for item in row), data))\n",
    "\n",
    "data"
   ]
  },
  {
   "cell_type": "code",
   "execution_count": 5,
   "metadata": {},
   "outputs": [
    {
     "name": "stdout",
     "output_type": "stream",
     "text": [
      "Sequence: ('Apple', 'Milk'), Support: 4\n",
      "Sequence: ('Apple', 'Banana', 'Cereal'), Support: 4\n",
      "Sequence: ('Banana', 'Milk'), Support: 4\n",
      "Sequence: ('Banana', 'Cereal'), Support: 5\n",
      "Sequence: ('Apple', 'Cereal', 'Milk'), Support: 2\n",
      "Sequence: ('Milk',), Support: 5\n",
      "Sequence: ('Apple', 'Cereal'), Support: 5\n",
      "Sequence: ('Cereal',), Support: 6\n",
      "Sequence: ('Cereal', 'Milk'), Support: 2\n",
      "Sequence: ('Apple', 'Banana', 'Milk'), Support: 3\n",
      "Sequence: ('Apple',), Support: 8\n",
      "Sequence: ('Banana', 'Cereal', 'Milk'), Support: 2\n",
      "Sequence: ('Banana',), Support: 8\n",
      "Sequence: ('Apple', 'Banana', 'Cereal', 'Milk'), Support: 2\n",
      "Sequence: ('Apple', 'Banana'), Support: 6\n"
     ]
    }
   ],
   "source": [
    "min_support = 2\n",
    "\n",
    "result = seqmining.freq_seq_enum(data, min_support)\n",
    "\n",
    "frequent_sequences = list(result)\n",
    "\n",
    "for seq in frequent_sequences:\n",
    "    print(f\"Sequence: {seq[0]}, Support: {seq[1]}\")"
   ]
  },
  {
   "cell_type": "code",
   "execution_count": 6,
   "metadata": {},
   "outputs": [
    {
     "name": "stdout",
     "output_type": "stream",
     "text": [
      "Pattern: 8, Support: ['Apple']\n",
      "Pattern: 6, Support: ['Apple', 'Banana']\n",
      "Pattern: 4, Support: ['Apple', 'Banana', 'Cereal']\n",
      "Pattern: 2, Support: ['Apple', 'Banana', 'Cereal', 'Milk']\n",
      "Pattern: 3, Support: ['Apple', 'Banana', 'Milk']\n",
      "Pattern: 5, Support: ['Apple', 'Cereal']\n",
      "Pattern: 2, Support: ['Apple', 'Cereal', 'Milk']\n",
      "Pattern: 4, Support: ['Apple', 'Milk']\n",
      "Pattern: 8, Support: ['Banana']\n",
      "Pattern: 5, Support: ['Banana', 'Cereal']\n",
      "Pattern: 2, Support: ['Banana', 'Cereal', 'Milk']\n",
      "Pattern: 4, Support: ['Banana', 'Milk']\n",
      "Pattern: 6, Support: ['Cereal']\n",
      "Pattern: 2, Support: ['Cereal', 'Milk']\n",
      "Pattern: 5, Support: ['Milk']\n"
     ]
    }
   ],
   "source": [
    "from prefixspan import PrefixSpan\n",
    "\n",
    "min_support = 2\n",
    "\n",
    "ps = PrefixSpan(data)\n",
    "frequent_sequences = ps.frequent(min_support)\n",
    "\n",
    "for pattern, support in frequent_sequences:\n",
    "    print(f\"Pattern: {pattern}, Support: {support}\")"
   ]
  }
 ],
 "metadata": {
  "kernelspec": {
   "display_name": "Python 3",
   "language": "python",
   "name": "python3"
  },
  "language_info": {
   "codemirror_mode": {
    "name": "ipython",
    "version": 3
   },
   "file_extension": ".py",
   "mimetype": "text/x-python",
   "name": "python",
   "nbconvert_exporter": "python",
   "pygments_lexer": "ipython3",
   "version": "3.11.9"
  }
 },
 "nbformat": 4,
 "nbformat_minor": 2
}
